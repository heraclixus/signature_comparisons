{
 "cells": [
  {
   "cell_type": "code",
   "execution_count": null,
   "metadata": {
    "colab": {},
    "colab_type": "code",
    "id": "P7uYfpGxKr3U"
   },
   "outputs": [],
   "source": [
    "%run base.ipynb\n",
    "%matplotlib inline\n",
    "\n",
    "import iisignature\n",
    "import matplotlib.pyplot as plt\n",
    "import numpy as np\n",
    "import pandas as pd\n",
    "import siglayer.examples as examples\n",
    "import torch\n",
    "import torch.nn.functional as F\n",
    "import torch.optim as optim\n",
    "\n",
    "import hurst_parameter\n",
    "import utils\n",
    "\n",
    "plt.rcParams['axes.labelsize'] = 20\n",
    "plt.rcParams['xtick.labelsize'] = 20\n",
    "plt.rcParams['ytick.labelsize'] = 20"
   ]
  },
  {
   "cell_type": "markdown",
   "metadata": {
    "colab_type": "text",
    "id": "V0qWPxHnKr3y"
   },
   "source": [
    "## Dataset hyperparameters "
   ]
  },
  {
   "cell_type": "code",
   "execution_count": null,
   "metadata": {
    "colab": {},
    "colab_type": "code",
    "id": "8JZ6vFuxKr3z"
   },
   "outputs": [],
   "source": [
    "# dataset parameters\n",
    "n_paths_train=600\n",
    "n_paths_test=100 \n",
    "n_samples=300\n",
    "hurst_exponents=np.around(np.linspace(0.2, 0.8, 7), decimals=1).tolist()\n",
    "\n",
    "# target shape\n",
    "output_shape = (1,)"
   ]
  },
  {
   "cell_type": "markdown",
   "metadata": {
    "colab_type": "text",
    "id": "K-52_W35Kr35"
   },
   "source": [
    "## Learning hyperparameters"
   ]
  },
  {
   "cell_type": "code",
   "execution_count": null,
   "metadata": {
    "colab": {},
    "colab_type": "code",
    "id": "ghOjJD9gKr37"
   },
   "outputs": [],
   "source": [
    "# batch and epoch sizes\n",
    "train_batch_size = 128\n",
    "val_batch_size = 128\n",
    "max_epochs = 100\n",
    "\n",
    "optimizer_fn = optim.Adam\n",
    "\n",
    "def loss_fn(x,y):\n",
    "    return torch.log(F.mse_loss(x, y))"
   ]
  },
  {
   "cell_type": "markdown",
   "metadata": {
    "colab_type": "text",
    "id": "s5wgLp6r62t2"
   },
   "source": [
    "## On to the training!"
   ]
  },
  {
   "cell_type": "code",
   "execution_count": null,
   "metadata": {},
   "outputs": [],
   "source": [
    "history = {}\n",
    "x_train, y_train, x_test, y_test = hurst_parameter.generate_data(n_paths_train, \n",
    "                                                                 n_paths_test, \n",
    "                                                                 n_samples, \n",
    "                                                                 hurst_exponents)"
   ]
  },
  {
   "cell_type": "markdown",
   "metadata": {
    "colab_type": "text",
    "id": "_ejmE5-Bo--E"
   },
   "source": [
    "### Feedforward, RNN, DeepSigNet, DeeperSigNet"
   ]
  },
  {
   "cell_type": "code",
   "execution_count": null,
   "metadata": {
    "colab": {},
    "colab_type": "code",
    "id": "PiyEil9a62t2"
   },
   "outputs": [],
   "source": [
    "x_train_, x_test_ = hurst_parameter.preprocess_data(x_train, x_test)\n",
    "\n",
    "(train_dataloader, test_dataloader, \n",
    " example_batch_x, example_batch_y) = hurst_parameter.generate_torch_batched_data(x_train_, \n",
    "                                                                                 y_train, \n",
    "                                                                                 x_test_, \n",
    "                                                                                 y_test,\n",
    "                                                                                 train_batch_size, \n",
    "                                                                                 val_batch_size)\n",
    "\n",
    "train_model = utils.create_train_model_fn(max_epochs, optimizer_fn, loss_fn, train_dataloader, \n",
    "                                          test_dataloader, example_batch_x)"
   ]
  },
  {
   "cell_type": "code",
   "execution_count": null,
   "metadata": {
    "colab": {
     "base_uri": "https://localhost:8080/",
     "height": 419
    },
    "colab_type": "code",
    "id": "C6nlT9o2Kr4C",
    "outputId": "1c4df83b-2145-4dbb-f6b7-3ba129762438"
   },
   "outputs": [],
   "source": [
    "feedforward = examples.create_simple(output_shape, sig=False, augment_layer_sizes=(), \n",
    "                                     layer_sizes = (16, 16, 16),\n",
    "                                     final_nonlinearity=torch.sigmoid)\n",
    "train_model(feedforward, 'Feedforward', history)"
   ]
  },
  {
   "cell_type": "code",
   "execution_count": null,
   "metadata": {},
   "outputs": [],
   "source": [
    "rnn = hurst_parameter.deep_recurrent(output_shape, \n",
    "                                     sig=False,\n",
    "                                     augment_layer_sizes=(), \n",
    "                                     layer_sizes_s=((64,64,32), (32,32,32)),\n",
    "                                     lengths=(4,4), \n",
    "                                     strides=(2,4), \n",
    "                                     adjust_lengths=(0, 0),\n",
    "                                     memory_sizes=(2,4),\n",
    "                                     hidden_output_sizes=(4,),\n",
    "                                     final_nonlinearity=torch.sigmoid)\n",
    "train_model(rnn, 'RNN', history)"
   ]
  },
  {
   "cell_type": "code",
   "execution_count": null,
   "metadata": {
    "colab": {
     "base_uri": "https://localhost:8080/",
     "height": 419
    },
    "colab_type": "code",
    "id": "C6nlT9o2Kr4C",
    "outputId": "1c4df83b-2145-4dbb-f6b7-3ba129762438"
   },
   "outputs": [],
   "source": [
    "deepsignet = examples.create_simple(output_shape,\n",
    "                                    sig=True,\n",
    "                                    sig_depth=3,\n",
    "                                    augment_layer_sizes=(3,),\n",
    "                                    augment_kernel_size=3,\n",
    "                                    layer_sizes = (32, 32, 32, 32, 32),\n",
    "                                     final_nonlinearity=torch.sigmoid)\n",
    "train_model(deepsignet, 'DeepSigNet', history)"
   ]
  },
  {
   "cell_type": "code",
   "execution_count": null,
   "metadata": {
    "colab": {
     "base_uri": "https://localhost:8080/",
     "height": 419
    },
    "colab_type": "code",
    "id": "C6nlT9o2Kr4C",
    "outputId": "1c4df83b-2145-4dbb-f6b7-3ba129762438"
   },
   "outputs": [],
   "source": [
    "deepersignet = hurst_parameter.deep_recurrent(output_shape, \n",
    "                                              sig=True, \n",
    "                                              sig_depth=3,\n",
    "                                              augment_layer_sizes=(16, 16, 3), \n",
    "                                              augment_kernel_size=4,\n",
    "                                              lengths=(10, 10, 10), \n",
    "                                              strides=(0, 0, 0), \n",
    "                                              adjust_lengths=(5, 5, 5),\n",
    "                                              layer_sizes_s=((16, 16), (16, 16), (16, 16)), \n",
    "                                              memory_sizes=(8, 8, 8),\n",
    "                                              hidden_output_sizes=(5, 5),\n",
    "                                              final_nonlinearity=torch.sigmoid)\n",
    "train_model(deepersignet, 'DeeperSigNet', history)"
   ]
  },
  {
   "cell_type": "markdown",
   "metadata": {
    "colab_type": "text",
    "id": "YThvrzJBo--S"
   },
   "source": [
    "### GRU, LSTM"
   ]
  },
  {
   "cell_type": "code",
   "execution_count": null,
   "metadata": {
    "colab": {},
    "colab_type": "code",
    "id": "Ts3zEWQtNW4S"
   },
   "outputs": [],
   "source": [
    "x_train_, x_test_ = hurst_parameter.preprocess_data(x_train, x_test, flag='lstm')\n",
    "\n",
    "(train_dataloader_lstm, test_dataloader_lstm, \n",
    " example_batch_lstm_x, example_batch_lstm_y) = hurst_parameter.generate_torch_batched_data(x_train_, \n",
    "                                                                                           y_train,\n",
    "                                                                                           x_test_, \n",
    "                                                                                           y_test,\n",
    "                                                                                           train_batch_size,\n",
    "                                                                                           val_batch_size)\n",
    "\n",
    "train_model_lstm = utils.create_train_model_fn(max_epochs, \n",
    "                                               optimizer_fn, \n",
    "                                               loss_fn, \n",
    "                                               train_dataloader_lstm, \n",
    "                                               test_dataloader_lstm, \n",
    "                                               example_batch_lstm_x)"
   ]
  },
  {
   "cell_type": "code",
   "execution_count": null,
   "metadata": {
    "colab": {
     "base_uri": "https://localhost:8080/",
     "height": 104
    },
    "colab_type": "code",
    "id": "fzjaWHWWp3IW",
    "outputId": "14dc3f03-b34f-46e8-a0dc-76e4284d3e76"
   },
   "outputs": [],
   "source": [
    "lstmnet = hurst_parameter.LSTM(input_dim=1, \n",
    "                               num_layers=2,\n",
    "                               hidden_dim=32,\n",
    "                               output_dim=1,\n",
    "                               final_nonlinearity=torch.sigmoid)\n",
    "train_model_lstm(lstmnet, 'LSTM', history)"
   ]
  },
  {
   "cell_type": "code",
   "execution_count": null,
   "metadata": {
    "colab": {
     "base_uri": "https://localhost:8080/",
     "height": 87
    },
    "colab_type": "code",
    "id": "-2bpWU-bqT5L",
    "outputId": "ab8beb3d-3a94-4800-af21-70386d90662d"
   },
   "outputs": [],
   "source": [
    "grunet = hurst_parameter.GRU(input_dim=1, \n",
    "                             num_layers=2, \n",
    "                             hidden_dim=32,\n",
    "                             output_dim=1,\n",
    "                             final_nonlinearity=torch.sigmoid)\n",
    "train_model_lstm(grunet, 'GRU', history)"
   ]
  },
  {
   "cell_type": "markdown",
   "metadata": {
    "colab_type": "text",
    "id": "ZnQK1Eplo--l"
   },
   "source": [
    "### Neural-Signature"
   ]
  },
  {
   "cell_type": "code",
   "execution_count": null,
   "metadata": {
    "colab": {},
    "colab_type": "code",
    "id": "RGb-mqL3Of_H"
   },
   "outputs": [],
   "source": [
    "# generate dataset\n",
    "x_train_, x_test_ = hurst_parameter.preprocess_data(x_train, x_test, flag='neuralsig')\n",
    "\n",
    "# generate torch dataloaders\n",
    "(train_dataloader_sig, test_dataloader_sig, \n",
    " example_batch_sig_x, example_batch_sig_y) = hurst_parameter.generate_torch_batched_data(x_train_,\n",
    "                                                                                         y_train,\n",
    "                                                                                         x_test_,\n",
    "                                                                                         y_test,\n",
    "                                                                                         train_batch_size,\n",
    "                                                                                         val_batch_size)\n",
    "\n",
    "# trainer function\n",
    "train_model_sig = utils.create_train_model_fn(max_epochs, \n",
    "                                              optimizer_fn, \n",
    "                                              loss_fn, \n",
    "                                              train_dataloader_sig, \n",
    "                                              test_dataloader_sig, \n",
    "                                              example_batch_sig_x)"
   ]
  },
  {
   "cell_type": "code",
   "execution_count": null,
   "metadata": {
    "colab": {
     "base_uri": "https://localhost:8080/",
     "height": 752
    },
    "colab_type": "code",
    "id": "eGDg-jFp-bGD",
    "outputId": "97ed12b1-7ced-4d5a-c026-f7235f274934"
   },
   "outputs": [],
   "source": [
    "neuralsig = examples.create_feedforward(output_shape, sig=False, \n",
    "                                        layer_sizes=(64, 64, 32, 32, 16, 16),\n",
    "                                        final_nonlinearity=torch.sigmoid)\n",
    "train_model_sig(neuralsig, 'Neural-Sig', history)"
   ]
  },
  {
   "cell_type": "markdown",
   "metadata": {
    "colab_type": "text",
    "id": "NHYyc-qqXasc"
   },
   "source": [
    "##  Results"
   ]
  },
  {
   "cell_type": "code",
   "execution_count": null,
   "metadata": {
    "colab": {},
    "colab_type": "code",
    "id": "ObD1hgF2He9c"
   },
   "outputs": [],
   "source": [
    "params = {}\n",
    "for k, m in zip(('DeeperSigNet', 'DeepSigNet', 'Neural-Sig', 'LSTM', 'GRU', 'RNN', 'Feedforward'), \n",
    "                (deepersignet, deepsignet, neuralsig, lstmnet, grunet, rnn, feedforward)):\n",
    "    params[k] = utils.count_parameters(m)"
   ]
  },
  {
   "cell_type": "code",
   "execution_count": null,
   "metadata": {},
   "outputs": [],
   "source": [
    "for key in history:\n",
    "    print('{:12} {:6.4f} {}'.format(key, history[key]['val_loss'][-1], params[key]))"
   ]
  },
  {
   "cell_type": "code",
   "execution_count": null,
   "metadata": {},
   "outputs": [],
   "source": [
    "# Loss for the non-neural-network mathematically-derived rescaled range method\n",
    "rescaled_range_pred = [hurst_parameter.hurst_rescaled_range(x_test_i) for x_test_i in x_test]\n",
    "loss_fn(torch.Tensor(rescaled_range_pred), torch.Tensor(y_test))"
   ]
  },
  {
   "cell_type": "code",
   "execution_count": null,
   "metadata": {},
   "outputs": [],
   "source": [
    "# adapted from jet\n",
    "colors = np.array([[0.5       , 0.5       , 0.5       , 1.        ],\n",
    "                   [0.        , 0.06470588, 1.        , 1.        ],\n",
    "                   [0.        , 0.64509804, 1.        , 1.        ],\n",
    "                   [0.05882352, 0.51764705, 0.17647058, 1.        ],\n",
    "                   [0.9       , 0.7       , 0.        , 1.        ],\n",
    "                   [1.        , 0.18954248, 0.        , 1.        ],\n",
    "                   [0.28627450, 0.18823529, 0.06666666, 1.        ]])\n",
    "\n",
    "# define pd dataframe for losses\n",
    "df_test_log = pd.DataFrame()\n",
    "for k in ('Feedforward', 'RNN', 'GRU', 'LSTM', 'Neural-Sig', 'DeepSigNet', 'DeeperSigNet'):\n",
    "    df_test_log[k] = history[k]['val_loss']\n",
    "\n",
    "fig, axes = plt.subplots(figsize=(10, 8))\n",
    "np.power(np.e, df_test_log.rolling(5).mean()).plot(grid=False, ax=axes, color=colors, lw=1.5, alpha=0.8)\n",
    "plt.yscale('log', basey=10)\n",
    "axes.set_xlabel('Epoch')\n",
    "axes.set_ylabel('Test MSE')\n",
    "plt.legend(mode='expand', bbox_to_anchor=(0, 1, 1, 0), ncol=3, prop={'size': 18})\n",
    "\n",
    "plt.show()"
   ]
  }
 ],
 "metadata": {
  "accelerator": "GPU",
  "colab": {
   "collapsed_sections": [],
   "include_colab_link": true,
   "name": "Copy of example_hurst_exponent.ipynb",
   "provenance": [],
   "toc_visible": true,
   "version": "0.3.2"
  },
  "kernelspec": {
   "display_name": "Python 3",
   "language": "python",
   "name": "python3"
  },
  "language_info": {
   "codemirror_mode": {
    "name": "ipython",
    "version": 3
   },
   "file_extension": ".py",
   "mimetype": "text/x-python",
   "name": "python",
   "nbconvert_exporter": "python",
   "pygments_lexer": "ipython3",
   "version": "3.7.3"
  }
 },
 "nbformat": 4,
 "nbformat_minor": 1
}
