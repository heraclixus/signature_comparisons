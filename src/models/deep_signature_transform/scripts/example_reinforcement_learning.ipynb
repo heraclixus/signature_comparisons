{
 "cells": [
  {
   "cell_type": "markdown",
   "metadata": {},
   "source": [
    "# Signatures and RL"
   ]
  },
  {
   "cell_type": "code",
   "execution_count": null,
   "metadata": {},
   "outputs": [],
   "source": [
    "%run base.ipynb\n",
    "\n",
    "import gym\n",
    "import matplotlib.pyplot as plt\n",
    "import numpy as np\n",
    "import pandas as pd\n",
    "import sys\n",
    "import torch\n",
    "import tqdm\n",
    "\n",
    "import reinforcement_learning\n",
    "import utils"
   ]
  },
  {
   "cell_type": "code",
   "execution_count": null,
   "metadata": {},
   "outputs": [],
   "source": [
    "env = gym.make('MountainCar-v0')\n",
    "\n",
    "steps = 300\n",
    "episodes = 2000"
   ]
  },
  {
   "cell_type": "markdown",
   "metadata": {},
   "source": [
    "## Random play exploration"
   ]
  },
  {
   "cell_type": "markdown",
   "metadata": {},
   "source": [
    "A random play exploration, unsurprisingly, does not tend to work."
   ]
  },
  {
   "cell_type": "code",
   "execution_count": null,
   "metadata": {},
   "outputs": [],
   "source": [
    "random_policy = reinforcement_learning.RandomPolicy(env)\n",
    "successes = [reinforcement_learning.play(env, random_policy, steps, render=False)[1] \n",
    "             for _ in tqdm.trange(episodes, file=sys.stdout)]\n",
    "print(\"Number of successes: {}\".format(sum(successes)))"
   ]
  },
  {
   "cell_type": "markdown",
   "metadata": {},
   "source": [
    "## Training a policy"
   ]
  },
  {
   "cell_type": "code",
   "execution_count": null,
   "metadata": {},
   "outputs": [],
   "source": [
    "sigpolicy = reinforcement_learning.SigPolicy(env)\n",
    "rnnpolicy = reinforcement_learning.RNNPolicy(env)"
   ]
  },
  {
   "cell_type": "code",
   "execution_count": null,
   "metadata": {
    "scrolled": false
   },
   "outputs": [],
   "source": [
    "sighistory = reinforcement_learning.train(env, sigpolicy, steps, episodes)"
   ]
  },
  {
   "cell_type": "code",
   "execution_count": null,
   "metadata": {},
   "outputs": [],
   "source": [
    "rnnhistory = reinforcement_learning.train(env, rnnpolicy, steps, episodes)"
   ]
  },
  {
   "cell_type": "markdown",
   "metadata": {},
   "source": [
    "## Plot Results"
   ]
  },
  {
   "cell_type": "code",
   "execution_count": null,
   "metadata": {},
   "outputs": [],
   "source": [
    "tuple(utils.count_parameters(x) for x in (sigpolicy, rnnpolicy))"
   ]
  },
  {
   "cell_type": "code",
   "execution_count": null,
   "metadata": {},
   "outputs": [],
   "source": [
    "plt.figure(2, figsize=[10,5])\n",
    "\n",
    "sigp = pd.Series(sighistory[2])\n",
    "sigma = sigp.rolling(100).mean()\n",
    "plt.plot(sigma, label=\"Signatures\")\n",
    "rnnp = pd.Series(rnnhistory[2])\n",
    "rnnma = rnnp.rolling(100).mean()\n",
    "plt.plot(rnnma, label=\"RNN\")\n",
    "\n",
    "plt.xlabel('Generation')\n",
    "plt.ylabel('Final position')\n",
    "plt.legend(mode='expand', bbox_to_anchor=(0, 1, 1, 0), ncol=3, prop={'size': 16})\n",
    "plt.show()"
   ]
  },
  {
   "cell_type": "markdown",
   "metadata": {},
   "source": [
    "## Play"
   ]
  },
  {
   "cell_type": "code",
   "execution_count": null,
   "metadata": {},
   "outputs": [],
   "source": [
    "states, success = reinforcement_learning.play(env, sigpolicy, steps, render=True)\n",
    "print(f\"Success: {success}\")"
   ]
  }
 ],
 "metadata": {
  "kernelspec": {
   "display_name": "Python 3",
   "language": "python",
   "name": "python3"
  },
  "language_info": {
   "codemirror_mode": {
    "name": "ipython",
    "version": 3
   },
   "file_extension": ".py",
   "mimetype": "text/x-python",
   "name": "python",
   "nbconvert_exporter": "python",
   "pygments_lexer": "ipython3",
   "version": "3.7.3"
  }
 },
 "nbformat": 4,
 "nbformat_minor": 2
}
